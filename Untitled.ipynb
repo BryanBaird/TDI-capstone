{
 "cells": [
  {
   "cell_type": "code",
   "execution_count": 2,
   "metadata": {},
   "outputs": [
    {
     "name": "stdout",
     "output_type": "stream",
     "text": [
      "[1] 354224848179261997056\n"
     ]
    }
   ],
   "source": [
    "n0 = 0\n",
    "n1 = 1\n",
    "f = 1\n",
    "for(i in 1:99){\n",
    "    f <- n0 + n1\n",
    "    n0 <- n1\n",
    "    n1 <- f\n",
    "}\n",
    "\n",
    "options(scipen = 99)\n",
    "\n",
    "print(f)"
   ]
  }
 ],
 "metadata": {
  "kernelspec": {
   "display_name": "R",
   "language": "R",
   "name": "ir"
  },
  "language_info": {
   "codemirror_mode": "r",
   "file_extension": ".r",
   "mimetype": "text/x-r-source",
   "name": "R",
   "pygments_lexer": "r",
   "version": "3.4.3"
  }
 },
 "nbformat": 4,
 "nbformat_minor": 2
}
